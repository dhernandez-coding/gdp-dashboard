{
 "cells": [
  {
   "cell_type": "code",
   "execution_count": null,
   "metadata": {},
   "outputs": [],
   "source": [
    "import pandas as pd\n",
    "import pyodbc\n",
    "import os\n"
   ]
  },
  {
   "cell_type": "code",
   "execution_count": 3,
   "metadata": {},
   "outputs": [],
   "source": [
    "# Database Connection\n",
    "conn = pyodbc.connect(\n",
    "    \"DRIVER={SQL Server};\"\n",
    "    \"SERVER=RLGOKC-DB01;\"\n",
    "    \"DATABASE=DW;\"\n",
    "    \"Trusted_Connection=yes;\"\n",
    ")\n"
   ]
  },
  {
   "cell_type": "code",
   "execution_count": 4,
   "metadata": {},
   "outputs": [],
   "source": [
    "queries = {\n",
    "    \"staff_revenue\": \"\"\"\n",
    "        SELECT Staff, sum(TimeEntryGross) as YTD_Actual from fact.TimeEntries t\n",
    "        where t.[TimeEntryYear] = '2024'\n",
    "        group by Staff\n",
    "    \"\"\",\n",
    "\n",
    "    \"team_hours\": \"\"\"\n",
    "        SELECT \n",
    "        MONTH(t.[TimeEntryDate]) AS Month,\n",
    "        SUM(t.TimeEntryAmount) AS Total_Hours\n",
    "        FROM fact.TimeEntries t\n",
    "        WHERE t.TimeEntryYear = 2024\n",
    "        GROUP BY MONTH(t.[TimeEntryDate])\n",
    "        ORDER BY Month;\n",
    "    \"\"\",\n",
    "    \"individual_hours\": \"\"\"\n",
    "        SELECT \n",
    "        Staff, \n",
    "        DATEPART(WEEK, t.TimeEntryDate) AS WeekNumber, \n",
    "        DATEADD(DAY, -DATEPART(WEEKDAY, t.TimeEntryDate) + 2, t.TimeEntryDate) AS WeekStartDate,\n",
    "        SUM(t.TimeEntryAmount) AS Total_Hours\n",
    "        FROM fact.TimeEntries t\n",
    "        WHERE t.TimeEntryYear = 2024\n",
    "        GROUP BY Staff, DATEPART(WEEK, t.TimeEntryDate), \n",
    "                 DATEADD(DAY, -DATEPART(WEEKDAY, t.TimeEntryDate) + 2, t.TimeEntryDate)\n",
    "        ORDER BY Staff, WeekNumber;\n",
    "\n",
    "    \"\"\",\n",
    "\n",
    "}"
   ]
  },
  {
   "cell_type": "code",
   "execution_count": 5,
   "metadata": {},
   "outputs": [
    {
     "name": "stdout",
     "output_type": "stream",
     "text": [
      "Fetching staff_revenue data...\n",
      "Saved: data/staff_revenue.csv\n",
      "Fetching team_hours data...\n",
      "Saved: data/team_hours.csv\n",
      "Fetching individual_hours data...\n",
      "Saved: data/individual_hours.csv\n",
      "All datasets created successfully!\n"
     ]
    },
    {
     "name": "stderr",
     "output_type": "stream",
     "text": [
      "C:\\Users\\v_rroberson\\AppData\\Local\\Temp\\2\\ipykernel_235464\\2340702716.py:4: UserWarning: pandas only supports SQLAlchemy connectable (engine/connection) or database string URI or sqlite3 DBAPI2 connection. Other DBAPI2 objects are not tested. Please consider using SQLAlchemy.\n",
      "  df = pd.read_sql(query, conn)\n"
     ]
    }
   ],
   "source": [
    "# Fetch Data and Save as CSV\n",
    "for name, query in queries.items():\n",
    "    print(f\"Fetching {name} data...\")\n",
    "    df = pd.read_sql(query, conn)\n",
    "    \n",
    "    # Save the dataset in the 'data' folder\n",
    "    csv_path = f\"data/{name}.csv\"\n",
    "    df.to_csv(csv_path, index=False)\n",
    "    \n",
    "    print(f\"Saved: {csv_path}\")\n",
    "\n",
    "# Close the database connection\n",
    "conn.close()\n",
    "print(\"All datasets created successfully!\")"
   ]
  }
 ],
 "metadata": {
  "kernelspec": {
   "display_name": "Python 3",
   "language": "python",
   "name": "python3"
  },
  "language_info": {
   "codemirror_mode": {
    "name": "ipython",
    "version": 3
   },
   "file_extension": ".py",
   "mimetype": "text/x-python",
   "name": "python",
   "nbconvert_exporter": "python",
   "pygments_lexer": "ipython3",
   "version": "3.11.3"
  }
 },
 "nbformat": 4,
 "nbformat_minor": 2
}
